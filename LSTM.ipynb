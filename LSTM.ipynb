{
  "nbformat": 4,
  "nbformat_minor": 0,
  "metadata": {
    "colab": {
      "name": "LSTM.ipynb",
      "provenance": [],
      "authorship_tag": "ABX9TyM6xkl9cTihjZiw6VhYkUOW",
      "include_colab_link": true
    },
    "kernelspec": {
      "name": "python3",
      "display_name": "Python 3"
    },
    "language_info": {
      "name": "python"
    }
  },
  "cells": [
    {
      "cell_type": "markdown",
      "metadata": {
        "id": "view-in-github",
        "colab_type": "text"
      },
      "source": [
        "<a href=\"https://colab.research.google.com/github/sahanal-2603/CPP/blob/master/LSTM.ipynb\" target=\"_parent\"><img src=\"https://colab.research.google.com/assets/colab-badge.svg\" alt=\"Open In Colab\"/></a>"
      ]
    },
    {
      "cell_type": "markdown",
      "source": [
        "# **Long short-term memory (LSTM)**"
      ],
      "metadata": {
        "id": "i37oPsXJhF9F"
      }
    },
    {
      "cell_type": "markdown",
      "source": [
        "**Multi-layer LSTM recurrent neural network to predict the last value of a sequence of values i.e. the TESLA stock price in this example.**"
      ],
      "metadata": {
        "id": "WPD9vcaJfLW3"
      }
    },
    {
      "cell_type": "code",
      "source": [
        "import math\n",
        "import matplotlib.pyplot as plt\n",
        "import keras\n",
        "import pandas as pd\n",
        "import numpy as np\n",
        "from keras.models import Sequential\n",
        "from keras.layers import Dense\n",
        "from keras.layers import LSTM\n",
        "from keras.layers import Dropout\n",
        "from keras.layers import *\n",
        "from sklearn.preprocessing import MinMaxScaler\n",
        "from sklearn.metrics import mean_squared_error\n",
        "from sklearn.metrics import mean_absolute_error\n",
        "from sklearn.model_selection import train_test_split\n",
        "from keras.callbacks import EarlyStopping"
      ],
      "metadata": {
        "id": "PPLJMVKUcW6S"
      },
      "execution_count": 9,
      "outputs": []
    },
    {
      "cell_type": "markdown",
      "source": [
        "**Let’s load the data and inspect them:**"
      ],
      "metadata": {
        "id": "J9OoEKa5fTqv"
      }
    },
    {
      "cell_type": "code",
      "source": [
        "df=pd.read_csv(\"TSLA.csv\")\n",
        "print(\"Number of rows and columns:\", df.shape)\n",
        "df.head(5)"
      ],
      "metadata": {
        "colab": {
          "base_uri": "https://localhost:8080/",
          "height": 224
        },
        "id": "FYuRYbeqdS0G",
        "outputId": "04829eb2-791e-4ef9-da4c-0903004eb1a5"
      },
      "execution_count": 10,
      "outputs": [
        {
          "output_type": "stream",
          "name": "stdout",
          "text": [
            "Number of rows and columns: (1259, 7)\n"
          ]
        },
        {
          "output_type": "execute_result",
          "data": {
            "text/html": [
              "\n",
              "  <div id=\"df-9e4d926e-dfc6-4694-9e67-4e9500e75fa2\">\n",
              "    <div class=\"colab-df-container\">\n",
              "      <div>\n",
              "<style scoped>\n",
              "    .dataframe tbody tr th:only-of-type {\n",
              "        vertical-align: middle;\n",
              "    }\n",
              "\n",
              "    .dataframe tbody tr th {\n",
              "        vertical-align: top;\n",
              "    }\n",
              "\n",
              "    .dataframe thead th {\n",
              "        text-align: right;\n",
              "    }\n",
              "</style>\n",
              "<table border=\"1\" class=\"dataframe\">\n",
              "  <thead>\n",
              "    <tr style=\"text-align: right;\">\n",
              "      <th></th>\n",
              "      <th>Date</th>\n",
              "      <th>Open</th>\n",
              "      <th>High</th>\n",
              "      <th>Low</th>\n",
              "      <th>Close</th>\n",
              "      <th>Adj Close</th>\n",
              "      <th>Volume</th>\n",
              "    </tr>\n",
              "  </thead>\n",
              "  <tbody>\n",
              "    <tr>\n",
              "      <th>0</th>\n",
              "      <td>2015-07-10</td>\n",
              "      <td>52.444000</td>\n",
              "      <td>52.599998</td>\n",
              "      <td>51.563999</td>\n",
              "      <td>51.830002</td>\n",
              "      <td>51.830002</td>\n",
              "      <td>13054500</td>\n",
              "    </tr>\n",
              "    <tr>\n",
              "      <th>1</th>\n",
              "      <td>2015-07-13</td>\n",
              "      <td>52.450001</td>\n",
              "      <td>52.509998</td>\n",
              "      <td>51.209999</td>\n",
              "      <td>52.431999</td>\n",
              "      <td>52.431999</td>\n",
              "      <td>14801500</td>\n",
              "    </tr>\n",
              "    <tr>\n",
              "      <th>2</th>\n",
              "      <td>2015-07-14</td>\n",
              "      <td>52.419998</td>\n",
              "      <td>53.198002</td>\n",
              "      <td>52.102001</td>\n",
              "      <td>53.130001</td>\n",
              "      <td>53.130001</td>\n",
              "      <td>9538000</td>\n",
              "    </tr>\n",
              "    <tr>\n",
              "      <th>3</th>\n",
              "      <td>2015-07-15</td>\n",
              "      <td>53.348000</td>\n",
              "      <td>53.498001</td>\n",
              "      <td>52.416000</td>\n",
              "      <td>52.627998</td>\n",
              "      <td>52.627998</td>\n",
              "      <td>10108000</td>\n",
              "    </tr>\n",
              "    <tr>\n",
              "      <th>4</th>\n",
              "      <td>2015-07-16</td>\n",
              "      <td>52.844002</td>\n",
              "      <td>53.439999</td>\n",
              "      <td>52.632000</td>\n",
              "      <td>53.335999</td>\n",
              "      <td>53.335999</td>\n",
              "      <td>8080000</td>\n",
              "    </tr>\n",
              "  </tbody>\n",
              "</table>\n",
              "</div>\n",
              "      <button class=\"colab-df-convert\" onclick=\"convertToInteractive('df-9e4d926e-dfc6-4694-9e67-4e9500e75fa2')\"\n",
              "              title=\"Convert this dataframe to an interactive table.\"\n",
              "              style=\"display:none;\">\n",
              "        \n",
              "  <svg xmlns=\"http://www.w3.org/2000/svg\" height=\"24px\"viewBox=\"0 0 24 24\"\n",
              "       width=\"24px\">\n",
              "    <path d=\"M0 0h24v24H0V0z\" fill=\"none\"/>\n",
              "    <path d=\"M18.56 5.44l.94 2.06.94-2.06 2.06-.94-2.06-.94-.94-2.06-.94 2.06-2.06.94zm-11 1L8.5 8.5l.94-2.06 2.06-.94-2.06-.94L8.5 2.5l-.94 2.06-2.06.94zm10 10l.94 2.06.94-2.06 2.06-.94-2.06-.94-.94-2.06-.94 2.06-2.06.94z\"/><path d=\"M17.41 7.96l-1.37-1.37c-.4-.4-.92-.59-1.43-.59-.52 0-1.04.2-1.43.59L10.3 9.45l-7.72 7.72c-.78.78-.78 2.05 0 2.83L4 21.41c.39.39.9.59 1.41.59.51 0 1.02-.2 1.41-.59l7.78-7.78 2.81-2.81c.8-.78.8-2.07 0-2.86zM5.41 20L4 18.59l7.72-7.72 1.47 1.35L5.41 20z\"/>\n",
              "  </svg>\n",
              "      </button>\n",
              "      \n",
              "  <style>\n",
              "    .colab-df-container {\n",
              "      display:flex;\n",
              "      flex-wrap:wrap;\n",
              "      gap: 12px;\n",
              "    }\n",
              "\n",
              "    .colab-df-convert {\n",
              "      background-color: #E8F0FE;\n",
              "      border: none;\n",
              "      border-radius: 50%;\n",
              "      cursor: pointer;\n",
              "      display: none;\n",
              "      fill: #1967D2;\n",
              "      height: 32px;\n",
              "      padding: 0 0 0 0;\n",
              "      width: 32px;\n",
              "    }\n",
              "\n",
              "    .colab-df-convert:hover {\n",
              "      background-color: #E2EBFA;\n",
              "      box-shadow: 0px 1px 2px rgba(60, 64, 67, 0.3), 0px 1px 3px 1px rgba(60, 64, 67, 0.15);\n",
              "      fill: #174EA6;\n",
              "    }\n",
              "\n",
              "    [theme=dark] .colab-df-convert {\n",
              "      background-color: #3B4455;\n",
              "      fill: #D2E3FC;\n",
              "    }\n",
              "\n",
              "    [theme=dark] .colab-df-convert:hover {\n",
              "      background-color: #434B5C;\n",
              "      box-shadow: 0px 1px 3px 1px rgba(0, 0, 0, 0.15);\n",
              "      filter: drop-shadow(0px 1px 2px rgba(0, 0, 0, 0.3));\n",
              "      fill: #FFFFFF;\n",
              "    }\n",
              "  </style>\n",
              "\n",
              "      <script>\n",
              "        const buttonEl =\n",
              "          document.querySelector('#df-9e4d926e-dfc6-4694-9e67-4e9500e75fa2 button.colab-df-convert');\n",
              "        buttonEl.style.display =\n",
              "          google.colab.kernel.accessAllowed ? 'block' : 'none';\n",
              "\n",
              "        async function convertToInteractive(key) {\n",
              "          const element = document.querySelector('#df-9e4d926e-dfc6-4694-9e67-4e9500e75fa2');\n",
              "          const dataTable =\n",
              "            await google.colab.kernel.invokeFunction('convertToInteractive',\n",
              "                                                     [key], {});\n",
              "          if (!dataTable) return;\n",
              "\n",
              "          const docLinkHtml = 'Like what you see? Visit the ' +\n",
              "            '<a target=\"_blank\" href=https://colab.research.google.com/notebooks/data_table.ipynb>data table notebook</a>'\n",
              "            + ' to learn more about interactive tables.';\n",
              "          element.innerHTML = '';\n",
              "          dataTable['output_type'] = 'display_data';\n",
              "          await google.colab.output.renderOutput(dataTable, element);\n",
              "          const docLink = document.createElement('div');\n",
              "          docLink.innerHTML = docLinkHtml;\n",
              "          element.appendChild(docLink);\n",
              "        }\n",
              "      </script>\n",
              "    </div>\n",
              "  </div>\n",
              "  "
            ],
            "text/plain": [
              "         Date       Open       High        Low      Close  Adj Close    Volume\n",
              "0  2015-07-10  52.444000  52.599998  51.563999  51.830002  51.830002  13054500\n",
              "1  2015-07-13  52.450001  52.509998  51.209999  52.431999  52.431999  14801500\n",
              "2  2015-07-14  52.419998  53.198002  52.102001  53.130001  53.130001   9538000\n",
              "3  2015-07-15  53.348000  53.498001  52.416000  52.627998  52.627998  10108000\n",
              "4  2015-07-16  52.844002  53.439999  52.632000  53.335999  53.335999   8080000"
            ]
          },
          "metadata": {},
          "execution_count": 10
        }
      ]
    },
    {
      "cell_type": "markdown",
      "source": [
        "The next step is to split the data into training and test sets to avoid overfitting and to be able to investigate the generalization ability of our model. To learn more about overfitting read this article:"
      ],
      "metadata": {
        "id": "D2eDMwo6fBAo"
      }
    },
    {
      "cell_type": "markdown",
      "source": [
        "The target value to be predicted is going to be the “Close” stock price value."
      ],
      "metadata": {
        "id": "a-SQymxOfy0U"
      }
    },
    {
      "cell_type": "code",
      "source": [
        "training_set = df.iloc[:800, 1:2].values\n",
        "test_set = df.iloc[800:, 1:2].values"
      ],
      "metadata": {
        "id": "XJGfJrw1d4dW"
      },
      "execution_count": 11,
      "outputs": []
    },
    {
      "cell_type": "markdown",
      "source": [
        "It’s a good idea to normalize the data before model fitting. This will boost the performance. You can read more here for the Min-Max Scaler:"
      ],
      "metadata": {
        "id": "eX-ID9pgf3w-"
      }
    },
    {
      "cell_type": "markdown",
      "source": [
        "Let’s build the input features with time lag of 1 day (lag 1):"
      ],
      "metadata": {
        "id": "AsOndJprezFm"
      }
    },
    {
      "cell_type": "code",
      "source": [
        "# Feature Scaling\n",
        "sc = MinMaxScaler(feature_range = (0, 1))\n",
        "training_set_scaled = sc.fit_transform(training_set)\n",
        "# Creating a data structure with 60 time-steps and 1 output\n",
        "X_train = []\n",
        "y_train = []\n",
        "for i in range(60, 800):\n",
        "    X_train.append(training_set_scaled[i-60:i, 0])\n",
        "    y_train.append(training_set_scaled[i, 0])\n",
        "X_train, y_train = np.array(X_train), np.array(y_train)\n",
        "X_train = np.reshape(X_train, (X_train.shape[0], X_train.shape[1], 1))\n",
        "#(740, 60, 1)"
      ],
      "metadata": {
        "id": "e0Ocn0mOd9dY"
      },
      "execution_count": 12,
      "outputs": []
    },
    {
      "cell_type": "markdown",
      "source": [
        "**Build the model.** We will build the LSTM with 50 neurons and 4 hidden layers. Finally, we will assign 1 neuron in the output layer for predicting the normalized stock price. We will use the MSE loss function and the Adam stochastic gradient descent optimizer."
      ],
      "metadata": {
        "id": "EpxNmhWPemOJ"
      }
    },
    {
      "cell_type": "code",
      "source": [
        "model = Sequential()\n",
        "#Adding the first LSTM layer and some Dropout regularisation\n",
        "model.add(LSTM(units = 50, return_sequences = True, input_shape = (X_train.shape[1], 1)))\n",
        "model.add(Dropout(0.2))\n",
        "# Adding a second LSTM layer and some Dropout regularisation\n",
        "model.add(LSTM(units = 50, return_sequences = True))\n",
        "model.add(Dropout(0.2))\n",
        "# Adding a third LSTM layer and some Dropout regularisation\n",
        "model.add(LSTM(units = 50, return_sequences = True))\n",
        "model.add(Dropout(0.2))\n",
        "# Adding a fourth LSTM layer and some Dropout regularisation\n",
        "model.add(LSTM(units = 50))\n",
        "model.add(Dropout(0.2))\n",
        "# Adding the output layer\n",
        "model.add(Dense(units = 1))\n",
        "\n",
        "# Compiling the RNN\n",
        "model.compile(optimizer = 'adam', loss = 'mean_squared_error')\n",
        "\n",
        "# Fitting the RNN to the Training set\n",
        "model.fit(X_train, y_train, epochs = 100, batch_size = 32)"
      ],
      "metadata": {
        "colab": {
          "base_uri": "https://localhost:8080/"
        },
        "id": "zecphl6XeBCG",
        "outputId": "8c8474c6-7420-4ecc-80f4-f1eb9805cbcc"
      },
      "execution_count": 13,
      "outputs": [
        {
          "output_type": "stream",
          "name": "stdout",
          "text": [
            "Epoch 1/100\n",
            "24/24 [==============================] - 10s 127ms/step - loss: 0.0897\n",
            "Epoch 2/100\n",
            "24/24 [==============================] - 3s 130ms/step - loss: 0.0189\n",
            "Epoch 3/100\n",
            "24/24 [==============================] - 3s 126ms/step - loss: 0.0127\n",
            "Epoch 4/100\n",
            "24/24 [==============================] - 3s 121ms/step - loss: 0.0130\n",
            "Epoch 5/100\n",
            "24/24 [==============================] - 3s 122ms/step - loss: 0.0143\n",
            "Epoch 6/100\n",
            "24/24 [==============================] - 3s 123ms/step - loss: 0.0123\n",
            "Epoch 7/100\n",
            "24/24 [==============================] - 3s 124ms/step - loss: 0.0111\n",
            "Epoch 8/100\n",
            "24/24 [==============================] - 3s 124ms/step - loss: 0.0110\n",
            "Epoch 9/100\n",
            "24/24 [==============================] - 3s 124ms/step - loss: 0.0119\n",
            "Epoch 10/100\n",
            "24/24 [==============================] - 3s 124ms/step - loss: 0.0105\n",
            "Epoch 11/100\n",
            "24/24 [==============================] - 3s 123ms/step - loss: 0.0097\n",
            "Epoch 12/100\n",
            "24/24 [==============================] - 3s 122ms/step - loss: 0.0106\n",
            "Epoch 13/100\n",
            "24/24 [==============================] - 3s 125ms/step - loss: 0.0087\n",
            "Epoch 14/100\n",
            "24/24 [==============================] - 3s 129ms/step - loss: 0.0092\n",
            "Epoch 15/100\n",
            "24/24 [==============================] - 3s 123ms/step - loss: 0.0085\n",
            "Epoch 16/100\n",
            "24/24 [==============================] - 3s 128ms/step - loss: 0.0082\n",
            "Epoch 17/100\n",
            "24/24 [==============================] - 3s 123ms/step - loss: 0.0077\n",
            "Epoch 18/100\n",
            "24/24 [==============================] - 3s 121ms/step - loss: 0.0085\n",
            "Epoch 19/100\n",
            "24/24 [==============================] - 3s 122ms/step - loss: 0.0078\n",
            "Epoch 20/100\n",
            "24/24 [==============================] - 3s 125ms/step - loss: 0.0081\n",
            "Epoch 21/100\n",
            "24/24 [==============================] - 3s 124ms/step - loss: 0.0075\n",
            "Epoch 22/100\n",
            "24/24 [==============================] - 3s 121ms/step - loss: 0.0077\n",
            "Epoch 23/100\n",
            "24/24 [==============================] - 3s 123ms/step - loss: 0.0078\n",
            "Epoch 24/100\n",
            "24/24 [==============================] - 3s 125ms/step - loss: 0.0071\n",
            "Epoch 25/100\n",
            "24/24 [==============================] - 3s 125ms/step - loss: 0.0068\n",
            "Epoch 26/100\n",
            "24/24 [==============================] - 3s 125ms/step - loss: 0.0078\n",
            "Epoch 27/100\n",
            "24/24 [==============================] - 3s 126ms/step - loss: 0.0065\n",
            "Epoch 28/100\n",
            "24/24 [==============================] - 3s 125ms/step - loss: 0.0065\n",
            "Epoch 29/100\n",
            "24/24 [==============================] - 3s 125ms/step - loss: 0.0063\n",
            "Epoch 30/100\n",
            "24/24 [==============================] - 3s 125ms/step - loss: 0.0062\n",
            "Epoch 31/100\n",
            "24/24 [==============================] - 3s 121ms/step - loss: 0.0066\n",
            "Epoch 32/100\n",
            "24/24 [==============================] - 3s 121ms/step - loss: 0.0066\n",
            "Epoch 33/100\n",
            "24/24 [==============================] - 3s 123ms/step - loss: 0.0060\n",
            "Epoch 34/100\n",
            "24/24 [==============================] - 3s 124ms/step - loss: 0.0060\n",
            "Epoch 35/100\n",
            "24/24 [==============================] - 3s 124ms/step - loss: 0.0056\n",
            "Epoch 36/100\n",
            "24/24 [==============================] - 3s 124ms/step - loss: 0.0058\n",
            "Epoch 37/100\n",
            "24/24 [==============================] - 3s 122ms/step - loss: 0.0055\n",
            "Epoch 38/100\n",
            "24/24 [==============================] - 3s 122ms/step - loss: 0.0056\n",
            "Epoch 39/100\n",
            "24/24 [==============================] - 3s 122ms/step - loss: 0.0060\n",
            "Epoch 40/100\n",
            "24/24 [==============================] - 3s 122ms/step - loss: 0.0050\n",
            "Epoch 41/100\n",
            "24/24 [==============================] - 3s 124ms/step - loss: 0.0054\n",
            "Epoch 42/100\n",
            "24/24 [==============================] - 3s 121ms/step - loss: 0.0055\n",
            "Epoch 43/100\n",
            "24/24 [==============================] - 3s 123ms/step - loss: 0.0054\n",
            "Epoch 44/100\n",
            "24/24 [==============================] - 3s 121ms/step - loss: 0.0050\n",
            "Epoch 45/100\n",
            "24/24 [==============================] - 3s 123ms/step - loss: 0.0045\n",
            "Epoch 46/100\n",
            "24/24 [==============================] - 3s 122ms/step - loss: 0.0048\n",
            "Epoch 47/100\n",
            "24/24 [==============================] - 3s 123ms/step - loss: 0.0042\n",
            "Epoch 48/100\n",
            "24/24 [==============================] - 3s 124ms/step - loss: 0.0048\n",
            "Epoch 49/100\n",
            "24/24 [==============================] - 3s 122ms/step - loss: 0.0044\n",
            "Epoch 50/100\n",
            "24/24 [==============================] - 3s 121ms/step - loss: 0.0043\n",
            "Epoch 51/100\n",
            "24/24 [==============================] - 3s 118ms/step - loss: 0.0044\n",
            "Epoch 52/100\n",
            "24/24 [==============================] - 3s 123ms/step - loss: 0.0046\n",
            "Epoch 53/100\n",
            "24/24 [==============================] - 3s 125ms/step - loss: 0.0047\n",
            "Epoch 54/100\n",
            "24/24 [==============================] - 3s 124ms/step - loss: 0.0040\n",
            "Epoch 55/100\n",
            "24/24 [==============================] - 3s 122ms/step - loss: 0.0038\n",
            "Epoch 56/100\n",
            "24/24 [==============================] - 3s 123ms/step - loss: 0.0042\n",
            "Epoch 57/100\n",
            "24/24 [==============================] - 3s 124ms/step - loss: 0.0039\n",
            "Epoch 58/100\n",
            "24/24 [==============================] - 3s 122ms/step - loss: 0.0047\n",
            "Epoch 59/100\n",
            "24/24 [==============================] - 3s 122ms/step - loss: 0.0039\n",
            "Epoch 60/100\n",
            "24/24 [==============================] - 3s 121ms/step - loss: 0.0038\n",
            "Epoch 61/100\n",
            "24/24 [==============================] - 3s 122ms/step - loss: 0.0041\n",
            "Epoch 62/100\n",
            "24/24 [==============================] - 3s 123ms/step - loss: 0.0039\n",
            "Epoch 63/100\n",
            "24/24 [==============================] - 3s 122ms/step - loss: 0.0044\n",
            "Epoch 64/100\n",
            "24/24 [==============================] - 3s 122ms/step - loss: 0.0040\n",
            "Epoch 65/100\n",
            "24/24 [==============================] - 3s 122ms/step - loss: 0.0039\n",
            "Epoch 66/100\n",
            "24/24 [==============================] - 3s 120ms/step - loss: 0.0037\n",
            "Epoch 67/100\n",
            "24/24 [==============================] - 3s 125ms/step - loss: 0.0038\n",
            "Epoch 68/100\n",
            "24/24 [==============================] - 3s 123ms/step - loss: 0.0032\n",
            "Epoch 69/100\n",
            "24/24 [==============================] - 3s 122ms/step - loss: 0.0041\n",
            "Epoch 70/100\n",
            "24/24 [==============================] - 3s 121ms/step - loss: 0.0045\n",
            "Epoch 71/100\n",
            "24/24 [==============================] - 3s 120ms/step - loss: 0.0039\n",
            "Epoch 72/100\n",
            "24/24 [==============================] - 3s 121ms/step - loss: 0.0035\n",
            "Epoch 73/100\n",
            "24/24 [==============================] - 3s 119ms/step - loss: 0.0034\n",
            "Epoch 74/100\n",
            "24/24 [==============================] - 3s 122ms/step - loss: 0.0034\n",
            "Epoch 75/100\n",
            "24/24 [==============================] - 3s 122ms/step - loss: 0.0035\n",
            "Epoch 76/100\n",
            "24/24 [==============================] - 3s 121ms/step - loss: 0.0034\n",
            "Epoch 77/100\n",
            "24/24 [==============================] - 3s 121ms/step - loss: 0.0032\n",
            "Epoch 78/100\n",
            "24/24 [==============================] - 3s 121ms/step - loss: 0.0034\n",
            "Epoch 79/100\n",
            "24/24 [==============================] - 3s 122ms/step - loss: 0.0032\n",
            "Epoch 80/100\n",
            "24/24 [==============================] - 3s 123ms/step - loss: 0.0035\n",
            "Epoch 81/100\n",
            "24/24 [==============================] - 3s 123ms/step - loss: 0.0033\n",
            "Epoch 82/100\n",
            "24/24 [==============================] - 3s 121ms/step - loss: 0.0044\n",
            "Epoch 83/100\n",
            "24/24 [==============================] - 3s 120ms/step - loss: 0.0031\n",
            "Epoch 84/100\n",
            "24/24 [==============================] - 3s 120ms/step - loss: 0.0034\n",
            "Epoch 85/100\n",
            "24/24 [==============================] - 3s 121ms/step - loss: 0.0035\n",
            "Epoch 86/100\n",
            "24/24 [==============================] - 3s 121ms/step - loss: 0.0032\n",
            "Epoch 87/100\n",
            "24/24 [==============================] - 3s 122ms/step - loss: 0.0035\n",
            "Epoch 88/100\n",
            "24/24 [==============================] - 3s 121ms/step - loss: 0.0035\n",
            "Epoch 89/100\n",
            "24/24 [==============================] - 3s 122ms/step - loss: 0.0033\n",
            "Epoch 90/100\n",
            "24/24 [==============================] - 3s 120ms/step - loss: 0.0036\n",
            "Epoch 91/100\n",
            "24/24 [==============================] - 3s 120ms/step - loss: 0.0033\n",
            "Epoch 92/100\n",
            "24/24 [==============================] - 3s 120ms/step - loss: 0.0032\n",
            "Epoch 93/100\n",
            "24/24 [==============================] - 3s 120ms/step - loss: 0.0031\n",
            "Epoch 94/100\n",
            "24/24 [==============================] - 3s 120ms/step - loss: 0.0038\n",
            "Epoch 95/100\n",
            "24/24 [==============================] - 3s 120ms/step - loss: 0.0035\n",
            "Epoch 96/100\n",
            "24/24 [==============================] - 3s 124ms/step - loss: 0.0032\n",
            "Epoch 97/100\n",
            "24/24 [==============================] - 3s 122ms/step - loss: 0.0032\n",
            "Epoch 98/100\n",
            "24/24 [==============================] - 3s 123ms/step - loss: 0.0030\n",
            "Epoch 99/100\n",
            "24/24 [==============================] - 3s 124ms/step - loss: 0.0029\n",
            "Epoch 100/100\n",
            "24/24 [==============================] - 3s 124ms/step - loss: 0.0029\n"
          ]
        },
        {
          "output_type": "execute_result",
          "data": {
            "text/plain": [
              "<keras.callbacks.History at 0x7f664ca8cd50>"
            ]
          },
          "metadata": {},
          "execution_count": 13
        }
      ]
    },
    {
      "cell_type": "markdown",
      "source": [
        "Prepare the test data (reshape them):"
      ],
      "metadata": {
        "id": "hACeSipGeOYk"
      }
    },
    {
      "cell_type": "code",
      "source": [
        "# Getting the predicted stock price of 2017\n",
        "dataset_train = df.iloc[:800, 1:2]\n",
        "dataset_test = df.iloc[800:, 1:2]\n",
        "dataset_total = pd.concat((dataset_train, dataset_test), axis = 0)\n",
        "inputs = dataset_total[len(dataset_total) - len(dataset_test) - 60:].values\n",
        "inputs = inputs.reshape(-1,1)\n",
        "inputs = sc.transform(inputs)\n",
        "X_test = []\n",
        "for i in range(60, 519):\n",
        "    X_test.append(inputs[i-60:i, 0])\n",
        "X_test = np.array(X_test)\n",
        "X_test = np.reshape(X_test, (X_test.shape[0], X_test.shape[1], 1))\n",
        "print(X_test.shape)\n",
        "# (459, 60, 1)"
      ],
      "metadata": {
        "colab": {
          "base_uri": "https://localhost:8080/"
        },
        "id": "_n4n9qQheKOW",
        "outputId": "16c0649f-393a-462f-f1f9-0345c8c657b3"
      },
      "execution_count": 14,
      "outputs": [
        {
          "output_type": "stream",
          "name": "stdout",
          "text": [
            "(459, 60, 1)\n"
          ]
        }
      ]
    },
    {
      "cell_type": "markdown",
      "source": [
        "Make Predictions using the test set"
      ],
      "metadata": {
        "id": "ydag4CORePeg"
      }
    },
    {
      "cell_type": "code",
      "source": [
        "predicted_stock_price = model.predict(X_test)\n",
        "predicted_stock_price = sc.inverse_transform(predicted_stock_price)"
      ],
      "metadata": {
        "id": "0GBWUSY6eRrs"
      },
      "execution_count": 15,
      "outputs": []
    },
    {
      "cell_type": "markdown",
      "source": [
        "visualize the results now:"
      ],
      "metadata": {
        "id": "rglMNnfLeUGo"
      }
    },
    {
      "cell_type": "code",
      "source": [
        "# Visualising the results\n",
        "plt.plot(df.loc[800:, \"Date\"],dataset_test.values, color = \"red\", label = \"Real TESLA Stock Price\")\n",
        "plt.plot(df.loc[800:, \"Date\"],predicted_stock_price, color = \"blue\", label = \"Predicted TESLA Stock Price\")\n",
        "plt.xticks(np.arange(0,459,50))\n",
        "plt.title('TESLA Stock Price Prediction')\n",
        "plt.xlabel('Time')\n",
        "plt.ylabel('TESLA Stock Price')\n",
        "plt.legend()\n",
        "plt.show()"
      ],
      "metadata": {
        "colab": {
          "base_uri": "https://localhost:8080/",
          "height": 295
        },
        "id": "utPeE7HgeW_I",
        "outputId": "8a159965-25c1-405f-e893-5315955c00c5"
      },
      "execution_count": 16,
      "outputs": [
        {
          "output_type": "display_data",
          "data": {
            "image/png": "[encoded data removed]",
            "text/plain": [
              "<Figure size 432x288 with 1 Axes>"
            ]
          },
          "metadata": {
            "needs_background": "light"
          }
        }
      ]
    }
  ]
}